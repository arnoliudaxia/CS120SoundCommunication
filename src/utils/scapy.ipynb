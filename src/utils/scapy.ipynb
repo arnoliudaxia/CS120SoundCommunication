{
 "cells": [
  {
   "cell_type": "code",
   "execution_count": 14,
   "metadata": {
    "collapsed": true,
    "pycharm": {
     "name": "#%%\n"
    }
   },
   "outputs": [],
   "source": [
    "from scapy.sendrecv import sniff\n",
    "from scapy.layers.inet import IP\n",
    "from scapy.layers.inet import ICMP"
   ]
  },
  {
   "cell_type": "code",
   "execution_count": 41,
   "outputs": [
    {
     "name": "stdout",
     "output_type": "stream",
     "text": [
      "0000 Ether / IP / ICMP 192.168.123.139 > 192.168.123.47 echo-request 0 / Raw\n",
      "0001 Ether / IP / ICMP 192.168.123.47 > 192.168.123.139 echo-reply 0 / Raw\n"
     ]
    }
   ],
   "source": [
    "echo=sniff(filter=\"icmp\",count=2)\n",
    "echo.nsummary()"
   ],
   "metadata": {
    "collapsed": false,
    "pycharm": {
     "name": "#%%\n"
    }
   }
  },
  {
   "cell_type": "code",
   "execution_count": 34,
   "outputs": [
    {
     "name": "stdout",
     "output_type": "stream",
     "text": [
      "192.168.123.139\n"
     ]
    }
   ],
   "source": [
    "for packet in echo:\n",
    "     if  str(packet.getlayer(ICMP).type) == \"8\":\n",
    "         #echo request\n",
    "        print(packet[IP].src)"
   ],
   "metadata": {
    "collapsed": false,
    "pycharm": {
     "name": "#%%\n"
    }
   }
  },
  {
   "cell_type": "code",
   "execution_count": 64,
   "outputs": [
    {
     "name": "stdout",
     "output_type": "stream",
     "text": [
      "Begin emission:\n",
      "Finished sending 1 packets.\n",
      "\n",
      "Received 26 packets, got 1 answers, remaining 0 packets\n"
     ]
    }
   ],
   "source": [
    "from scapy.sendrecv import send, sr1\n",
    "\n",
    "receive1=sr1(IP(dst=\"localhost\")/ICMP()/\"INNET\")"
   ],
   "metadata": {
    "collapsed": false,
    "pycharm": {
     "name": "#%%\n"
    }
   }
  },
  {
   "cell_type": "code",
   "execution_count": 61,
   "outputs": [
    {
     "data": {
      "text/plain": "b'Hello'"
     },
     "execution_count": 61,
     "metadata": {},
     "output_type": "execute_result"
    }
   ],
   "source": [
    "from scapy.packet import Raw"
   ],
   "metadata": {
    "collapsed": false,
    "pycharm": {
     "name": "#%%\n"
    }
   }
  },
  {
   "cell_type": "code",
   "execution_count": 62,
   "outputs": [
    {
     "data": {
      "text/plain": "'Hello'"
     },
     "execution_count": 62,
     "metadata": {},
     "output_type": "execute_result"
    }
   ],
   "source": [
    "str(receive1[ICMP][Raw].load,\"ascii\")"
   ],
   "metadata": {
    "collapsed": false,
    "pycharm": {
     "name": "#%%\n"
    }
   }
  }
 ],
 "metadata": {
  "kernelspec": {
   "display_name": "Python 3",
   "language": "python",
   "name": "python3"
  },
  "language_info": {
   "codemirror_mode": {
    "name": "ipython",
    "version": 2
   },
   "file_extension": ".py",
   "mimetype": "text/x-python",
   "name": "python",
   "nbconvert_exporter": "python",
   "pygments_lexer": "ipython2",
   "version": "2.7.6"
  }
 },
 "nbformat": 4,
 "nbformat_minor": 0
}